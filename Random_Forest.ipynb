{
 "cells": [
  {
   "cell_type": "code",
   "execution_count": 1,
   "metadata": {},
   "outputs": [
    {
     "name": "stdout",
     "output_type": "stream",
     "text": [
      "package 'psych' successfully unpacked and MD5 sums checked\n",
      "\n",
      "The downloaded binary packages are in\n",
      "\tC:\\Users\\Richie\\AppData\\Local\\Temp\\RtmpeCmn02\\downloaded_packages\n",
      "package 'ggplot2' successfully unpacked and MD5 sums checked\n",
      "\n",
      "The downloaded binary packages are in\n",
      "\tC:\\Users\\Richie\\AppData\\Local\\Temp\\RtmpeCmn02\\downloaded_packages\n",
      "package 'plotly' successfully unpacked and MD5 sums checked\n",
      "\n",
      "The downloaded binary packages are in\n",
      "\tC:\\Users\\Richie\\AppData\\Local\\Temp\\RtmpeCmn02\\downloaded_packages\n",
      "package 'expss' successfully unpacked and MD5 sums checked\n",
      "\n",
      "The downloaded binary packages are in\n",
      "\tC:\\Users\\Richie\\AppData\\Local\\Temp\\RtmpeCmn02\\downloaded_packages\n",
      "package 'PerformanceAnalytics' successfully unpacked and MD5 sums checked\n",
      "\n",
      "The downloaded binary packages are in\n",
      "\tC:\\Users\\Richie\\AppData\\Local\\Temp\\RtmpeCmn02\\downloaded_packages\n"
     ]
    },
    {
     "ename": "ERROR",
     "evalue": "Error in install.pakages(\"GGally\"): could not find function \"install.pakages\"\n",
     "output_type": "error",
     "traceback": [
      "Error in install.pakages(\"GGally\"): could not find function \"install.pakages\"\nTraceback:\n"
     ]
    }
   ],
   "source": [
    "install.packages(\"psych\")\n",
    "install.packages(\"ggplot2\")\n",
    "install.packages(\"plotly\")\n",
    "install.packages(\"expss\")\n",
    "install.packages(\"PerformanceAnalytics\")\n",
    "install.pakages(\"GGally\")"
   ]
  },
  {
   "cell_type": "code",
   "execution_count": 3,
   "metadata": {
    "scrolled": false
   },
   "outputs": [
    {
     "name": "stderr",
     "output_type": "stream",
     "text": [
      "Warning message:\n",
      "\"package 'corrplot' is in use and will not be installed\"Warning message:\n",
      "\"package 'ggthemes' is in use and will not be installed\"Warning message:\n",
      "\"package 'stringsr' is not available (for R version 3.6.1)\""
     ]
    },
    {
     "name": "stdout",
     "output_type": "stream",
     "text": [
      "package 'repr' successfully unpacked and MD5 sums checked\n",
      "\n",
      "The downloaded binary packages are in\n",
      "\tC:\\Users\\Richie\\AppData\\Local\\Temp\\RtmpeCmn02\\downloaded_packages\n",
      "package 'tidyr' successfully unpacked and MD5 sums checked\n"
     ]
    },
    {
     "name": "stderr",
     "output_type": "stream",
     "text": [
      "Warning message:\n",
      "\"cannot remove prior installation of package 'tidyr'\"Warning message in file.copy(savedcopy, lib, recursive = TRUE):\n",
      "\"problem copying C:\\Users\\Richie\\Anaconda3\\envs\\r-tutorial\\Lib\\R\\library\\00LOCK\\tidyr\\libs\\x64\\tidyr.dll to C:\\Users\\Richie\\Anaconda3\\envs\\r-tutorial\\Lib\\R\\library\\tidyr\\libs\\x64\\tidyr.dll: Permission denied\"Warning message:\n",
      "\"restored 'tidyr'\""
     ]
    },
    {
     "name": "stdout",
     "output_type": "stream",
     "text": [
      "\n",
      "The downloaded binary packages are in\n",
      "\tC:\\Users\\Richie\\AppData\\Local\\Temp\\RtmpeCmn02\\downloaded_packages\n",
      "package 'caret' successfully unpacked and MD5 sums checked\n",
      "\n",
      "The downloaded binary packages are in\n",
      "\tC:\\Users\\Richie\\AppData\\Local\\Temp\\RtmpeCmn02\\downloaded_packages\n"
     ]
    }
   ],
   "source": [
    "install.packages(\"corrplot\")\n",
    "install.packages(\"ggthemes\")\n",
    "install.packages(\"stringsr\")\n",
    "install.packages(\"repr\")\n",
    "install.packages(\"tidyr\")\n",
    "install.packages(\"caret\")"
   ]
  },
  {
   "cell_type": "code",
   "execution_count": 4,
   "metadata": {},
   "outputs": [
    {
     "name": "stderr",
     "output_type": "stream",
     "text": [
      "Warning message:\n",
      "\"package 'repr' was built under R version 3.6.3\""
     ]
    },
    {
     "ename": "ERROR",
     "evalue": "Error in value[[3L]](cond): Package 'repr' version 0.19.2 cannot be unloaded:\n Error in unloadNamespace(package) : namespace 'repr' is imported by 'IRkernel', 'IRdisplay' so cannot be unloaded\n\n",
     "output_type": "error",
     "traceback": [
      "Error in value[[3L]](cond): Package 'repr' version 0.19.2 cannot be unloaded:\n Error in unloadNamespace(package) : namespace 'repr' is imported by 'IRkernel', 'IRdisplay' so cannot be unloaded\n\nTraceback:\n",
      "1. library(repr)",
      "2. tryCatch(unloadNamespace(package), error = function(e) {\n .     P <- if (!is.null(cc <- conditionCall(e))) \n .         paste(\"Error in\", deparse(cc)[1L], \": \")\n .     else \"Error : \"\n .     stop(gettextf(\"Package %s version %s cannot be unloaded:\\n %s\", \n .         sQuote(package), oldversion, paste0(P, conditionMessage(e), \n .             \"\\n\")), domain = NA)\n . })",
      "3. tryCatchList(expr, classes, parentenv, handlers)",
      "4. tryCatchOne(expr, names, parentenv, handlers[[1L]])",
      "5. value[[3L]](cond)",
      "6. stop(gettextf(\"Package %s version %s cannot be unloaded:\\n %s\", \n .     sQuote(package), oldversion, paste0(P, conditionMessage(e), \n .         \"\\n\")), domain = NA)"
     ]
    }
   ],
   "source": [
    "library(readr)\n",
    "library(psych, warn.conflicts=F)\n",
    "library(ggplot2,warn.conflicts=F)\n",
    "library(plotly,warn.conflicts=F)\n",
    "library(expss,warn.conflicts=F)\n",
    "require(reshape2)\n",
    "library(PerformanceAnalytics)\n",
    "library(GGally)\n",
    "library(corrplot)\n",
    "library(ggthemes)\n",
    "library(stringr)\n",
    "library(repr)\n",
    "library(plotly)\n",
    "library(tidyr)\n",
    "library(caret)"
   ]
  },
  {
   "cell_type": "code",
   "execution_count": 5,
   "metadata": {},
   "outputs": [
    {
     "name": "stderr",
     "output_type": "stream",
     "text": [
      "also installing the dependency 'scales'\n",
      "\n",
      "Warning message:\n",
      "\"package 'GGally' is in use and will not be installed\""
     ]
    },
    {
     "name": "stdout",
     "output_type": "stream",
     "text": [
      "package 'scales' successfully unpacked and MD5 sums checked\n"
     ]
    },
    {
     "name": "stderr",
     "output_type": "stream",
     "text": [
      "Warning message:\n",
      "\"cannot remove prior installation of package 'scales'\"Warning message in file.copy(savedcopy, lib, recursive = TRUE):\n",
      "\"problem copying C:\\Users\\Richie\\Anaconda3\\envs\\r-tutorial\\Lib\\R\\library\\00LOCK\\scales\\libs\\x64\\scales.dll to C:\\Users\\Richie\\Anaconda3\\envs\\r-tutorial\\Lib\\R\\library\\scales\\libs\\x64\\scales.dll: Permission denied\"Warning message:\n",
      "\"restored 'scales'\""
     ]
    },
    {
     "name": "stdout",
     "output_type": "stream",
     "text": [
      "\n",
      "The downloaded binary packages are in\n",
      "\tC:\\Users\\Richie\\AppData\\Local\\Temp\\RtmpeCmn02\\downloaded_packages\n"
     ]
    }
   ],
   "source": [
    "install.packages(\"GGally\")"
   ]
  },
  {
   "cell_type": "code",
   "execution_count": 6,
   "metadata": {},
   "outputs": [],
   "source": [
    "library(GGally)"
   ]
  },
  {
   "cell_type": "code",
   "execution_count": 7,
   "metadata": {},
   "outputs": [],
   "source": [
    "hungry <- read.csv(\"menu.csv\", header=T)"
   ]
  },
  {
   "cell_type": "code",
   "execution_count": 8,
   "metadata": {},
   "outputs": [],
   "source": [
    "new_names <- gsub(pattern = \"*....Daily.Value.\", replacement=\".DV\", names(hungry))\n",
    "names(hungry) <- new_names"
   ]
  },
  {
   "cell_type": "code",
   "execution_count": 9,
   "metadata": {},
   "outputs": [
    {
     "name": "stdout",
     "output_type": "stream",
     "text": [
      "'data.frame':\t260 obs. of  24 variables:\n",
      " $ Category         : Factor w/ 9 levels \"Beef & Pork\",..: 3 3 3 3 3 3 3 3 3 3 ...\n",
      " $ Item             : Factor w/ 260 levels \"1% Low Fat Milk Jug\",..: 76 77 228 229 230 245 12 11 14 13 ...\n",
      " $ Serving.Size     : Factor w/ 107 levels \"1 carton (236 ml)\",..: 55 54 42 69 69 83 63 72 65 73 ...\n",
      " $ Calories         : int  300 250 370 450 400 430 460 520 410 470 ...\n",
      " $ Calories.from.Fat: int  120 70 200 250 210 210 230 270 180 220 ...\n",
      " $ Total.Fat        : num  13 8 23 28 23 23 26 30 20 25 ...\n",
      " $ Total.Fat.DV     : int  20 12 35 43 35 36 40 47 32 38 ...\n",
      " $ Saturated.Fat    : num  5 3 8 10 8 9 13 14 11 12 ...\n",
      " $ Saturated.Fat.DV : int  25 15 42 52 42 46 65 68 56 59 ...\n",
      " $ Trans.Fat        : num  0 0 0 0 0 1 0 0 0 0 ...\n",
      " $ Cholesterol      : int  260 25 45 285 50 300 250 250 35 35 ...\n",
      " $ Cholesterol.DV   : int  87 8 15 95 16 100 83 83 11 11 ...\n",
      " $ Sodium           : int  750 770 780 860 880 960 1300 1410 1300 1420 ...\n",
      " $ Sodium.DV        : int  31 32 33 36 37 40 54 59 54 59 ...\n",
      " $ Carbohydrates    : int  31 30 29 30 30 31 38 43 36 42 ...\n",
      " $ Carbohydrates.DV : int  10 10 10 10 10 10 13 14 12 14 ...\n",
      " $ Dietary.Fiber    : int  4 4 4 4 4 4 2 3 2 3 ...\n",
      " $ Dietary.Fiber.DV : int  17 17 17 17 17 18 7 12 7 12 ...\n",
      " $ Sugars           : int  3 3 2 2 2 3 3 4 3 4 ...\n",
      " $ Protein          : int  17 18 14 21 21 26 19 19 20 20 ...\n",
      " $ Vitamin.A.DV     : int  10 6 8 15 6 15 10 15 2 6 ...\n",
      " $ Vitamin.C.DV     : int  0 0 0 0 0 2 8 8 8 8 ...\n",
      " $ Calcium.DV       : int  25 25 25 30 25 30 15 20 15 15 ...\n",
      " $ Iron.DV          : int  15 8 10 15 10 20 15 20 10 15 ...\n"
     ]
    }
   ],
   "source": [
    "str(hungry)"
   ]
  },
  {
   "cell_type": "code",
   "execution_count": 10,
   "metadata": {},
   "outputs": [],
   "source": [
    "new_names <- gsub(pattern = \"*....Daily.Value.\", replacement=\".DV\", names(hungry))\n",
    "names(hungry) <- new_names"
   ]
  },
  {
   "cell_type": "code",
   "execution_count": 11,
   "metadata": {},
   "outputs": [
    {
     "name": "stderr",
     "output_type": "stream",
     "text": [
      "Warning message:\n",
      "\"package 'dplyr' was built under R version 3.6.3\"\n",
      "Attaching package: 'dplyr'\n",
      "\n",
      "The following objects are masked from 'package:xts':\n",
      "\n",
      "    first, last\n",
      "\n",
      "The following objects are masked from 'package:expss':\n",
      "\n",
      "    between, compute, contains, first, last, na_if, recode, vars\n",
      "\n",
      "The following objects are masked from 'package:stats':\n",
      "\n",
      "    filter, lag\n",
      "\n",
      "The following objects are masked from 'package:base':\n",
      "\n",
      "    intersect, setdiff, setequal, union\n",
      "\n"
     ]
    }
   ],
   "source": [
    "library(dplyr)"
   ]
  },
  {
   "cell_type": "code",
   "execution_count": 12,
   "metadata": {},
   "outputs": [],
   "source": [
    "library(stringr)"
   ]
  },
  {
   "cell_type": "code",
   "execution_count": 13,
   "metadata": {},
   "outputs": [],
   "source": [
    "drinks.oz <- hungry[str_detect(hungry$Serving.Size, \" fl oz.*\"),]\n",
    "drinks.ml <- hungry[str_detect(hungry$Serving.Size, 'carton'),]"
   ]
  },
  {
   "cell_type": "code",
   "execution_count": 14,
   "metadata": {},
   "outputs": [],
   "source": [
    "drinks.oz$Serving.Size <- \n",
    "  round(as.numeric(gsub(\" fl oz.*\", \"\", drinks.oz$Serving.Size))*29.5735,0)\n",
    "drinks.ml$Serving.Size <- \n",
    "  round(as.numeric(gsub(\".*\\\\((.*)\\\\ ml).*\", \"\\\\1\", drinks.ml$Serving.Size)),0)"
   ]
  },
  {
   "cell_type": "code",
   "execution_count": 15,
   "metadata": {},
   "outputs": [],
   "source": [
    "food.g <- hungry[str_detect(hungry$Serving.Size, 'g'),] \n",
    "food.g$Serving.Size <- \n",
    "  round(as.numeric(gsub(\".*\\\\((.*)\\\\ g).*\", \"\\\\1\", food.g$Serving.Size)),0)"
   ]
  },
  {
   "cell_type": "code",
   "execution_count": 16,
   "metadata": {},
   "outputs": [],
   "source": [
    "hungry <- rbind(drinks.oz,drinks.ml)\n",
    "hungry$Type <- rep(\"drinks.ml\", nrow(hungry))\n",
    "food.g$Type <- rep(\"food.g\", nrow(food.g))\n",
    "hungry <- rbind(hungry,food.g)"
   ]
  },
  {
   "cell_type": "code",
   "execution_count": 17,
   "metadata": {},
   "outputs": [
    {
     "data": {
      "text/html": [
       "<table>\n",
       "<thead><tr><th></th><th scope=col>Category</th><th scope=col>Item</th><th scope=col>Serving.Size</th><th scope=col>Calories</th><th scope=col>Calories.from.Fat</th><th scope=col>Total.Fat</th><th scope=col>Total.Fat.DV</th><th scope=col>Saturated.Fat</th><th scope=col>Saturated.Fat.DV</th><th scope=col>Trans.Fat</th><th scope=col>...</th><th scope=col>Carbohydrates.DV</th><th scope=col>Dietary.Fiber</th><th scope=col>Dietary.Fiber.DV</th><th scope=col>Sugars</th><th scope=col>Protein</th><th scope=col>Vitamin.A.DV</th><th scope=col>Vitamin.C.DV</th><th scope=col>Calcium.DV</th><th scope=col>Iron.DV</th><th scope=col>Type</th></tr></thead>\n",
       "<tbody>\n",
       "\t<tr><th scope=row>111</th><td>Beverages                 </td><td>Coca-Cola Classic (Small) </td><td>473                       </td><td>140                       </td><td>0                         </td><td>0                         </td><td>0                         </td><td>0                         </td><td>0                         </td><td>0                         </td><td>...                       </td><td>13                        </td><td>0                         </td><td>0                         </td><td>39                        </td><td>0                         </td><td>0                         </td><td>0                         </td><td>0                         </td><td>0                         </td><td>drinks.ml                 </td></tr>\n",
       "\t<tr><th scope=row>112</th><td>Beverages                 </td><td>Coca-Cola Classic (Medium)</td><td>621                       </td><td>200                       </td><td>0                         </td><td>0                         </td><td>0                         </td><td>0                         </td><td>0                         </td><td>0                         </td><td>...                       </td><td>18                        </td><td>0                         </td><td>0                         </td><td>55                        </td><td>0                         </td><td>0                         </td><td>0                         </td><td>0                         </td><td>0                         </td><td>drinks.ml                 </td></tr>\n",
       "\t<tr><th scope=row>113</th><td>Beverages                 </td><td>Coca-Cola Classic (Large) </td><td>887                       </td><td>280                       </td><td>0                         </td><td>0                         </td><td>0                         </td><td>0                         </td><td>0                         </td><td>0                         </td><td>...                       </td><td>25                        </td><td>0                         </td><td>0                         </td><td>76                        </td><td>0                         </td><td>0                         </td><td>0                         </td><td>0                         </td><td>0                         </td><td>drinks.ml                 </td></tr>\n",
       "\t<tr><th scope=row>114</th><td>Beverages                 </td><td>Coca-Cola Classic (Child) </td><td>355                       </td><td>100                       </td><td>0                         </td><td>0                         </td><td>0                         </td><td>0                         </td><td>0                         </td><td>0                         </td><td>...                       </td><td> 9                        </td><td>0                         </td><td>0                         </td><td>28                        </td><td>0                         </td><td>0                         </td><td>0                         </td><td>0                         </td><td>0                         </td><td>drinks.ml                 </td></tr>\n",
       "\t<tr><th scope=row>115</th><td>Beverages                 </td><td>Diet Coke (Small)         </td><td>473                       </td><td>  0                       </td><td>0                         </td><td>0                         </td><td>0                         </td><td>0                         </td><td>0                         </td><td>0                         </td><td>...                       </td><td> 0                        </td><td>0                         </td><td>0                         </td><td> 0                        </td><td>0                         </td><td>0                         </td><td>0                         </td><td>0                         </td><td>0                         </td><td>drinks.ml                 </td></tr>\n",
       "\t<tr><th scope=row>116</th><td>Beverages                 </td><td>Diet Coke (Medium)        </td><td>621                       </td><td>  0                       </td><td>0                         </td><td>0                         </td><td>0                         </td><td>0                         </td><td>0                         </td><td>0                         </td><td>...                       </td><td> 0                        </td><td>0                         </td><td>0                         </td><td> 0                        </td><td>0                         </td><td>0                         </td><td>0                         </td><td>0                         </td><td>0                         </td><td>drinks.ml                 </td></tr>\n",
       "</tbody>\n",
       "</table>\n"
      ],
      "text/latex": [
       "\\begin{tabular}{r|lllllllllllllllllllllllll}\n",
       "  & Category & Item & Serving.Size & Calories & Calories.from.Fat & Total.Fat & Total.Fat.DV & Saturated.Fat & Saturated.Fat.DV & Trans.Fat & ... & Carbohydrates.DV & Dietary.Fiber & Dietary.Fiber.DV & Sugars & Protein & Vitamin.A.DV & Vitamin.C.DV & Calcium.DV & Iron.DV & Type\\\\\n",
       "\\hline\n",
       "\t111 & Beverages                  & Coca-Cola Classic (Small)  & 473                        & 140                        & 0                          & 0                          & 0                          & 0                          & 0                          & 0                          & ...                        & 13                         & 0                          & 0                          & 39                         & 0                          & 0                          & 0                          & 0                          & 0                          & drinks.ml                 \\\\\n",
       "\t112 & Beverages                  & Coca-Cola Classic (Medium) & 621                        & 200                        & 0                          & 0                          & 0                          & 0                          & 0                          & 0                          & ...                        & 18                         & 0                          & 0                          & 55                         & 0                          & 0                          & 0                          & 0                          & 0                          & drinks.ml                 \\\\\n",
       "\t113 & Beverages                  & Coca-Cola Classic (Large)  & 887                        & 280                        & 0                          & 0                          & 0                          & 0                          & 0                          & 0                          & ...                        & 25                         & 0                          & 0                          & 76                         & 0                          & 0                          & 0                          & 0                          & 0                          & drinks.ml                 \\\\\n",
       "\t114 & Beverages                  & Coca-Cola Classic (Child)  & 355                        & 100                        & 0                          & 0                          & 0                          & 0                          & 0                          & 0                          & ...                        &  9                         & 0                          & 0                          & 28                         & 0                          & 0                          & 0                          & 0                          & 0                          & drinks.ml                 \\\\\n",
       "\t115 & Beverages                  & Diet Coke (Small)          & 473                        &   0                        & 0                          & 0                          & 0                          & 0                          & 0                          & 0                          & ...                        &  0                         & 0                          & 0                          &  0                         & 0                          & 0                          & 0                          & 0                          & 0                          & drinks.ml                 \\\\\n",
       "\t116 & Beverages                  & Diet Coke (Medium)         & 621                        &   0                        & 0                          & 0                          & 0                          & 0                          & 0                          & 0                          & ...                        &  0                         & 0                          & 0                          &  0                         & 0                          & 0                          & 0                          & 0                          & 0                          & drinks.ml                 \\\\\n",
       "\\end{tabular}\n"
      ],
      "text/markdown": [
       "\n",
       "| <!--/--> | Category | Item | Serving.Size | Calories | Calories.from.Fat | Total.Fat | Total.Fat.DV | Saturated.Fat | Saturated.Fat.DV | Trans.Fat | ... | Carbohydrates.DV | Dietary.Fiber | Dietary.Fiber.DV | Sugars | Protein | Vitamin.A.DV | Vitamin.C.DV | Calcium.DV | Iron.DV | Type |\n",
       "|---|---|---|---|---|---|---|---|---|---|---|---|---|---|---|---|---|---|---|---|---|---|\n",
       "| 111 | Beverages                  | Coca-Cola Classic (Small)  | 473                        | 140                        | 0                          | 0                          | 0                          | 0                          | 0                          | 0                          | ...                        | 13                         | 0                          | 0                          | 39                         | 0                          | 0                          | 0                          | 0                          | 0                          | drinks.ml                  |\n",
       "| 112 | Beverages                  | Coca-Cola Classic (Medium) | 621                        | 200                        | 0                          | 0                          | 0                          | 0                          | 0                          | 0                          | ...                        | 18                         | 0                          | 0                          | 55                         | 0                          | 0                          | 0                          | 0                          | 0                          | drinks.ml                  |\n",
       "| 113 | Beverages                  | Coca-Cola Classic (Large)  | 887                        | 280                        | 0                          | 0                          | 0                          | 0                          | 0                          | 0                          | ...                        | 25                         | 0                          | 0                          | 76                         | 0                          | 0                          | 0                          | 0                          | 0                          | drinks.ml                  |\n",
       "| 114 | Beverages                  | Coca-Cola Classic (Child)  | 355                        | 100                        | 0                          | 0                          | 0                          | 0                          | 0                          | 0                          | ...                        |  9                         | 0                          | 0                          | 28                         | 0                          | 0                          | 0                          | 0                          | 0                          | drinks.ml                  |\n",
       "| 115 | Beverages                  | Diet Coke (Small)          | 473                        |   0                        | 0                          | 0                          | 0                          | 0                          | 0                          | 0                          | ...                        |  0                         | 0                          | 0                          |  0                         | 0                          | 0                          | 0                          | 0                          | 0                          | drinks.ml                  |\n",
       "| 116 | Beverages                  | Diet Coke (Medium)         | 621                        |   0                        | 0                          | 0                          | 0                          | 0                          | 0                          | 0                          | ...                        |  0                         | 0                          | 0                          |  0                         | 0                          | 0                          | 0                          | 0                          | 0                          | drinks.ml                  |\n",
       "\n"
      ],
      "text/plain": [
       "    Category  Item                       Serving.Size Calories\n",
       "111 Beverages Coca-Cola Classic (Small)  473          140     \n",
       "112 Beverages Coca-Cola Classic (Medium) 621          200     \n",
       "113 Beverages Coca-Cola Classic (Large)  887          280     \n",
       "114 Beverages Coca-Cola Classic (Child)  355          100     \n",
       "115 Beverages Diet Coke (Small)          473            0     \n",
       "116 Beverages Diet Coke (Medium)         621            0     \n",
       "    Calories.from.Fat Total.Fat Total.Fat.DV Saturated.Fat Saturated.Fat.DV\n",
       "111 0                 0         0            0             0               \n",
       "112 0                 0         0            0             0               \n",
       "113 0                 0         0            0             0               \n",
       "114 0                 0         0            0             0               \n",
       "115 0                 0         0            0             0               \n",
       "116 0                 0         0            0             0               \n",
       "    Trans.Fat ... Carbohydrates.DV Dietary.Fiber Dietary.Fiber.DV Sugars\n",
       "111 0         ... 13               0             0                39    \n",
       "112 0         ... 18               0             0                55    \n",
       "113 0         ... 25               0             0                76    \n",
       "114 0         ...  9               0             0                28    \n",
       "115 0         ...  0               0             0                 0    \n",
       "116 0         ...  0               0             0                 0    \n",
       "    Protein Vitamin.A.DV Vitamin.C.DV Calcium.DV Iron.DV Type     \n",
       "111 0       0            0            0          0       drinks.ml\n",
       "112 0       0            0            0          0       drinks.ml\n",
       "113 0       0            0            0          0       drinks.ml\n",
       "114 0       0            0            0          0       drinks.ml\n",
       "115 0       0            0            0          0       drinks.ml\n",
       "116 0       0            0            0          0       drinks.ml"
      ]
     },
     "metadata": {},
     "output_type": "display_data"
    }
   ],
   "source": [
    "head(hungry)"
   ]
  },
  {
   "cell_type": "code",
   "execution_count": 18,
   "metadata": {},
   "outputs": [
    {
     "ename": "ERROR",
     "evalue": "Error in setalloccol(ans): could not find function \"setalloccol\"\n",
     "output_type": "error",
     "traceback": [
      "Error in setalloccol(ans): could not find function \"setalloccol\"\nTraceback:\n",
      "1. hungry %>% tab_cols(total()) %>% tab_cells(Serving.Size) %>% \n .     tab_stat_mean_sd_n() %>% tab_cells(Category, Item) %>% tab_stat_cpct(total_row_position = \"none\", \n .     label = \"col %\") %>% tab_pivot(stat_position = \"inside_rows\") %>% \n .     set_caption(\"Category, items and serving size\")",
      "2. withVisible(eval(quote(`_fseq`(`_lhs`)), env, env))",
      "3. eval(quote(`_fseq`(`_lhs`)), env, env)",
      "4. eval(quote(`_fseq`(`_lhs`)), env, env)",
      "5. `_fseq`(`_lhs`)",
      "6. freduce(value, `_function_list`)",
      "7. function_list[[i]](value)",
      "8. tab_stat_mean_sd_n(.)",
      "9. tab_stat_fun_internal(data, fun, label_expr = label, unsafe = labels, \n .     parent = parent.frame())",
      "10. cro_fun(cell_vars = get_cells(data), col_vars = data[[COL_VAR]], \n  .     row_vars = data[[ROW_VAR]], weight = data[[WEIGHT]], subgroup = data[[SUBGROUP]], \n  .     fun = fun, unsafe = unsafe)",
      "11. lapply(row_vars, function(each_row_var) {\n  .     all_col_vars = lapply(col_vars, function(each_col_var) {\n  .         dtable = elementary_cro_fun_df(cell_var = cell_vars, \n  .             row_var = each_row_var, col_var = each_col_var, weight = weight, \n  .             subgroup = subgroup, fun = fun, use_lapply = unsafe)\n  .         row_var_lab = var_lab(dtable[[\"..row_var__\"]])\n  .         col_var_lab = var_lab(dtable[[\"..col_var__\"]])\n  .         res = long_datatable_to_table(dtable, rows = c(\"..row_var__\", \n  .             \"row_labels\"), columns = \"..col_var__\", values = colnames(dtable) %d% \n  .             c(\"..row_var__\", \"row_labels\", \"..col_var__\"))\n  .         format_table(res, row_var_lab = row_var_lab, col_var_lab = col_var_lab)\n  .     })\n  .     Reduce(merge, all_col_vars)\n  . })",
      "12. FUN(X[[i]], ...)",
      "13. lapply(col_vars, function(each_col_var) {\n  .     dtable = elementary_cro_fun_df(cell_var = cell_vars, row_var = each_row_var, \n  .         col_var = each_col_var, weight = weight, subgroup = subgroup, \n  .         fun = fun, use_lapply = unsafe)\n  .     row_var_lab = var_lab(dtable[[\"..row_var__\"]])\n  .     col_var_lab = var_lab(dtable[[\"..col_var__\"]])\n  .     res = long_datatable_to_table(dtable, rows = c(\"..row_var__\", \n  .         \"row_labels\"), columns = \"..col_var__\", values = colnames(dtable) %d% \n  .         c(\"..row_var__\", \"row_labels\", \"..col_var__\"))\n  .     format_table(res, row_var_lab = row_var_lab, col_var_lab = col_var_lab)\n  . })",
      "14. FUN(X[[i]], ...)",
      "15. elementary_cro_fun_df(cell_var = cell_vars, row_var = each_row_var, \n  .     col_var = each_col_var, weight = weight, subgroup = subgroup, \n  .     fun = fun, use_lapply = unsafe)",
      "16. data.table(..row_var__ = row_var, ..col_var__ = col_var, cell_var)"
     ]
    }
   ],
   "source": [
    "hungry %>%\n",
    "    tab_cols(total()) %>%\n",
    "    tab_cells(Serving.Size) %>% \n",
    "    tab_stat_mean_sd_n() %>% \n",
    "    tab_cells(Category,Item) %>%\n",
    "    tab_stat_cpct(total_row_position = \"none\", label = \"col %\") %>%\n",
    "    tab_pivot(stat_position = \"inside_rows\")%>%\n",
    "    set_caption(\"Category, items and serving size\")"
   ]
  },
  {
   "cell_type": "code",
   "execution_count": 19,
   "metadata": {},
   "outputs": [
    {
     "ename": "ERROR",
     "evalue": "Error in setalloccol(ans): could not find function \"setalloccol\"\n",
     "output_type": "error",
     "traceback": [
      "Error in setalloccol(ans): could not find function \"setalloccol\"\nTraceback:\n",
      "1. hungry %>% tab_cols(Category) %>% tab_cells(Serving.Size) %>% \n .     tab_stat_mean_sd_n() %>% tab_cells(Item) %>% tab_stat_cpct(total_row_position = \"none\", \n .     label = \"col %\") %>% tab_pivot(stat_position = \"inside_rows\") %>% \n .     set_caption(\"Category and serving size\")",
      "2. withVisible(eval(quote(`_fseq`(`_lhs`)), env, env))",
      "3. eval(quote(`_fseq`(`_lhs`)), env, env)",
      "4. eval(quote(`_fseq`(`_lhs`)), env, env)",
      "5. `_fseq`(`_lhs`)",
      "6. freduce(value, `_function_list`)",
      "7. function_list[[i]](value)",
      "8. tab_stat_mean_sd_n(.)",
      "9. tab_stat_fun_internal(data, fun, label_expr = label, unsafe = labels, \n .     parent = parent.frame())",
      "10. cro_fun(cell_vars = get_cells(data), col_vars = data[[COL_VAR]], \n  .     row_vars = data[[ROW_VAR]], weight = data[[WEIGHT]], subgroup = data[[SUBGROUP]], \n  .     fun = fun, unsafe = unsafe)",
      "11. lapply(row_vars, function(each_row_var) {\n  .     all_col_vars = lapply(col_vars, function(each_col_var) {\n  .         dtable = elementary_cro_fun_df(cell_var = cell_vars, \n  .             row_var = each_row_var, col_var = each_col_var, weight = weight, \n  .             subgroup = subgroup, fun = fun, use_lapply = unsafe)\n  .         row_var_lab = var_lab(dtable[[\"..row_var__\"]])\n  .         col_var_lab = var_lab(dtable[[\"..col_var__\"]])\n  .         res = long_datatable_to_table(dtable, rows = c(\"..row_var__\", \n  .             \"row_labels\"), columns = \"..col_var__\", values = colnames(dtable) %d% \n  .             c(\"..row_var__\", \"row_labels\", \"..col_var__\"))\n  .         format_table(res, row_var_lab = row_var_lab, col_var_lab = col_var_lab)\n  .     })\n  .     Reduce(merge, all_col_vars)\n  . })",
      "12. FUN(X[[i]], ...)",
      "13. lapply(col_vars, function(each_col_var) {\n  .     dtable = elementary_cro_fun_df(cell_var = cell_vars, row_var = each_row_var, \n  .         col_var = each_col_var, weight = weight, subgroup = subgroup, \n  .         fun = fun, use_lapply = unsafe)\n  .     row_var_lab = var_lab(dtable[[\"..row_var__\"]])\n  .     col_var_lab = var_lab(dtable[[\"..col_var__\"]])\n  .     res = long_datatable_to_table(dtable, rows = c(\"..row_var__\", \n  .         \"row_labels\"), columns = \"..col_var__\", values = colnames(dtable) %d% \n  .         c(\"..row_var__\", \"row_labels\", \"..col_var__\"))\n  .     format_table(res, row_var_lab = row_var_lab, col_var_lab = col_var_lab)\n  . })",
      "14. FUN(X[[i]], ...)",
      "15. elementary_cro_fun_df(cell_var = cell_vars, row_var = each_row_var, \n  .     col_var = each_col_var, weight = weight, subgroup = subgroup, \n  .     fun = fun, use_lapply = unsafe)",
      "16. data.table(..row_var__ = row_var, ..col_var__ = col_var, cell_var)"
     ]
    }
   ],
   "source": [
    "hungry %>%\n",
    "    tab_cols(Category) %>%\n",
    "    tab_cells(Serving.Size) %>% \n",
    "    tab_stat_mean_sd_n() %>%\n",
    "    tab_cells(Item) %>%\n",
    "    tab_stat_cpct(total_row_position = \"none\", label = \"col %\") %>%\n",
    "    tab_pivot(stat_position = \"inside_rows\")%>%\n",
    "    set_caption(\"Category and serving size\")"
   ]
  },
  {
   "cell_type": "code",
   "execution_count": 20,
   "metadata": {},
   "outputs": [
    {
     "data": {
      "text/html": [
       "<table>\n",
       "<thead><tr><th></th><th scope=col>vars</th><th scope=col>n</th><th scope=col>mean</th><th scope=col>sd</th><th scope=col>median</th><th scope=col>trimmed</th><th scope=col>mad</th><th scope=col>min</th><th scope=col>max</th><th scope=col>range</th><th scope=col>skew</th><th scope=col>kurtosis</th><th scope=col>se</th></tr></thead>\n",
       "<tbody>\n",
       "\t<tr><th scope=row>Calories</th><td> 1         </td><td>260        </td><td>368.2692308</td><td>240.2698865</td><td>340.0      </td><td>350.2884615</td><td>207.56400  </td><td>0          </td><td>1880.0     </td><td>1880.0     </td><td>1.4357816  </td><td> 5.5788997 </td><td>14.90090580</td></tr>\n",
       "\t<tr><th scope=row>Calories.from.Fat</th><td> 2         </td><td>260        </td><td>127.0961538</td><td>127.8759141</td><td>100.0      </td><td>110.8894231</td><td>133.43400  </td><td>0          </td><td>1060.0     </td><td>1060.0     </td><td>2.1208157  </td><td>10.2770357 </td><td> 7.93052753</td></tr>\n",
       "\t<tr><th scope=row>Total.Fat</th><td> 3         </td><td>260        </td><td> 14.1653846</td><td> 14.2059980</td><td> 11.0      </td><td> 12.3557692</td><td> 14.82600  </td><td>0          </td><td> 118.0     </td><td> 118.0     </td><td>2.1280226  </td><td>10.3517054 </td><td> 0.88101860</td></tr>\n",
       "\t<tr><th scope=row>Total.Fat.DV</th><td> 4         </td><td>260        </td><td> 21.8153846</td><td> 21.8851988</td><td> 17.0      </td><td> 19.0336538</td><td> 23.72160  </td><td>0          </td><td> 182.0     </td><td> 182.0     </td><td>2.1371291  </td><td>10.4238136 </td><td> 1.35726241</td></tr>\n",
       "\t<tr><th scope=row>Saturated.Fat</th><td> 5         </td><td>260        </td><td>  6.0076923</td><td>  5.3218732</td><td>  5.0      </td><td>  5.4519231</td><td>  6.30105  </td><td>0          </td><td>  20.0     </td><td>  20.0     </td><td>0.6560465  </td><td>-0.4609420 </td><td> 0.33004857</td></tr>\n",
       "\t<tr><th scope=row>Saturated.Fat.DV</th><td> 6         </td><td>260        </td><td> 29.9653846</td><td> 26.6392088</td><td> 24.0      </td><td> 27.1346154</td><td> 31.13460  </td><td>0          </td><td> 102.0     </td><td> 102.0     </td><td>0.6774092  </td><td>-0.4042764 </td><td> 1.65209360</td></tr>\n",
       "\t<tr><th scope=row>Trans.Fat</th><td> 7         </td><td>260        </td><td>  0.2038462</td><td>  0.4291329</td><td>  0.0      </td><td>  0.1033654</td><td>  0.00000  </td><td>0          </td><td>   2.5     </td><td>   2.5     </td><td>2.1112383  </td><td> 4.1351405 </td><td> 0.02661369</td></tr>\n",
       "\t<tr><th scope=row>Cholesterol</th><td> 8         </td><td>260        </td><td> 54.9423077</td><td> 87.2692575</td><td> 35.0      </td><td> 36.0817308</td><td> 44.47800  </td><td>0          </td><td> 575.0     </td><td> 575.0     </td><td>3.7551862  </td><td>16.8794736 </td><td> 5.41220959</td></tr>\n",
       "\t<tr><th scope=row>Cholesterol.DV</th><td> 9         </td><td>260        </td><td> 18.3923077</td><td> 29.0916528</td><td> 11.0      </td><td> 12.1250000</td><td> 13.34340  </td><td>0          </td><td> 192.0     </td><td> 192.0     </td><td>3.7604179  </td><td>16.9231605 </td><td> 1.80418772</td></tr>\n",
       "\t<tr><th scope=row>Sodium</th><td>10         </td><td>260        </td><td>495.7500000</td><td>577.0263230</td><td>190.0      </td><td>405.8413462</td><td>218.68350  </td><td>0          </td><td>3600.0     </td><td>3600.0     </td><td>1.5263175  </td><td> 2.7519102 </td><td>35.78565341</td></tr>\n",
       "\t<tr><th scope=row>Sodium.DV</th><td>11         </td><td>260        </td><td> 20.6769231</td><td> 24.0349538</td><td>  8.0      </td><td> 16.9375000</td><td>  8.89560  </td><td>0          </td><td> 150.0     </td><td> 150.0     </td><td>1.5281935  </td><td> 2.7611400 </td><td> 1.49058456</td></tr>\n",
       "\t<tr><th scope=row>Carbohydrates</th><td>12         </td><td>260        </td><td> 47.3461538</td><td> 28.2522317</td><td> 44.0      </td><td> 45.0576923</td><td> 20.75640  </td><td>0          </td><td> 141.0     </td><td> 141.0     </td><td>0.9021952  </td><td> 1.3240829 </td><td> 1.75212903</td></tr>\n",
       "\t<tr><th scope=row>Carbohydrates.DV</th><td>13         </td><td>260        </td><td> 15.7807692</td><td>  9.4195443</td><td> 15.0      </td><td> 15.0240385</td><td>  7.41300  </td><td>0          </td><td>  47.0     </td><td>  47.0     </td><td>0.8932000  </td><td> 1.3121961 </td><td> 0.58417534</td></tr>\n",
       "\t<tr><th scope=row>Dietary.Fiber</th><td>14         </td><td>260        </td><td>  1.6307692</td><td>  1.5677171</td><td>  1.0      </td><td>  1.4134615</td><td>  1.48260  </td><td>0          </td><td>   7.0     </td><td>   7.0     </td><td>1.1601177  </td><td> 1.2425023 </td><td> 0.09722569</td></tr>\n",
       "\t<tr><th scope=row>Dietary.Fiber.DV</th><td>15         </td><td>260        </td><td>  6.5307692</td><td>  6.3070573</td><td>  5.0      </td><td>  5.6442308</td><td>  7.41300  </td><td>0          </td><td>  28.0     </td><td>  28.0     </td><td>1.1409610  </td><td> 1.1286760 </td><td> 0.39114709</td></tr>\n",
       "\t<tr><th scope=row>Sugars</th><td>16         </td><td>260        </td><td> 29.4230769</td><td> 28.6797967</td><td> 17.5      </td><td> 25.6153846</td><td> 24.46290  </td><td>0          </td><td> 128.0     </td><td> 128.0     </td><td>1.0200638  </td><td> 0.4609670 </td><td> 1.77864549</td></tr>\n",
       "\t<tr><th scope=row>Protein</th><td>17         </td><td>260        </td><td> 13.3384615</td><td> 11.4261462</td><td> 12.0      </td><td> 12.0384615</td><td> 11.86080  </td><td>0          </td><td>  87.0     </td><td>  87.0     </td><td>1.5617406  </td><td> 5.7954999 </td><td> 0.70861950</td></tr>\n",
       "\t<tr><th scope=row>Vitamin.A.DV</th><td>18         </td><td>260        </td><td> 13.4269231</td><td> 24.3663807</td><td>  8.0      </td><td>  8.3461538</td><td> 10.37820  </td><td>0          </td><td> 170.0     </td><td> 170.0     </td><td>4.5276162  </td><td>23.8107746 </td><td> 1.51113878</td></tr>\n",
       "\t<tr><th scope=row>Vitamin.C.DV</th><td>19         </td><td>260        </td><td>  8.5346154</td><td> 26.3455423</td><td>  0.0      </td><td>  2.6875000</td><td>  0.00000  </td><td>0          </td><td> 240.0     </td><td> 240.0     </td><td>5.4389063  </td><td>34.2651807 </td><td> 1.63388117</td></tr>\n",
       "\t<tr><th scope=row>Calcium.DV</th><td>20         </td><td>260        </td><td> 20.9730769</td><td> 17.0199533</td><td> 20.0      </td><td> 19.4855769</td><td> 17.79120  </td><td>0          </td><td>  70.0     </td><td>  70.0     </td><td>0.5867234  </td><td>-0.5091444 </td><td> 1.05553269</td></tr>\n",
       "\t<tr><th scope=row>Iron.DV</th><td>21         </td><td>260        </td><td>  7.7346154</td><td>  8.7232633</td><td>  4.0      </td><td>  6.4471154</td><td>  5.93040  </td><td>0          </td><td>  40.0     </td><td>  40.0     </td><td>1.1742366  </td><td> 0.8542982 </td><td> 0.54099382</td></tr>\n",
       "</tbody>\n",
       "</table>\n"
      ],
      "text/latex": [
       "\\begin{tabular}{r|lllllllllllll}\n",
       "  & vars & n & mean & sd & median & trimmed & mad & min & max & range & skew & kurtosis & se\\\\\n",
       "\\hline\n",
       "\tCalories &  1          & 260         & 368.2692308 & 240.2698865 & 340.0       & 350.2884615 & 207.56400   & 0           & 1880.0      & 1880.0      & 1.4357816   &  5.5788997  & 14.90090580\\\\\n",
       "\tCalories.from.Fat &  2          & 260         & 127.0961538 & 127.8759141 & 100.0       & 110.8894231 & 133.43400   & 0           & 1060.0      & 1060.0      & 2.1208157   & 10.2770357  &  7.93052753\\\\\n",
       "\tTotal.Fat &  3          & 260         &  14.1653846 &  14.2059980 &  11.0       &  12.3557692 &  14.82600   & 0           &  118.0      &  118.0      & 2.1280226   & 10.3517054  &  0.88101860\\\\\n",
       "\tTotal.Fat.DV &  4          & 260         &  21.8153846 &  21.8851988 &  17.0       &  19.0336538 &  23.72160   & 0           &  182.0      &  182.0      & 2.1371291   & 10.4238136  &  1.35726241\\\\\n",
       "\tSaturated.Fat &  5          & 260         &   6.0076923 &   5.3218732 &   5.0       &   5.4519231 &   6.30105   & 0           &   20.0      &   20.0      & 0.6560465   & -0.4609420  &  0.33004857\\\\\n",
       "\tSaturated.Fat.DV &  6          & 260         &  29.9653846 &  26.6392088 &  24.0       &  27.1346154 &  31.13460   & 0           &  102.0      &  102.0      & 0.6774092   & -0.4042764  &  1.65209360\\\\\n",
       "\tTrans.Fat &  7          & 260         &   0.2038462 &   0.4291329 &   0.0       &   0.1033654 &   0.00000   & 0           &    2.5      &    2.5      & 2.1112383   &  4.1351405  &  0.02661369\\\\\n",
       "\tCholesterol &  8          & 260         &  54.9423077 &  87.2692575 &  35.0       &  36.0817308 &  44.47800   & 0           &  575.0      &  575.0      & 3.7551862   & 16.8794736  &  5.41220959\\\\\n",
       "\tCholesterol.DV &  9          & 260         &  18.3923077 &  29.0916528 &  11.0       &  12.1250000 &  13.34340   & 0           &  192.0      &  192.0      & 3.7604179   & 16.9231605  &  1.80418772\\\\\n",
       "\tSodium & 10          & 260         & 495.7500000 & 577.0263230 & 190.0       & 405.8413462 & 218.68350   & 0           & 3600.0      & 3600.0      & 1.5263175   &  2.7519102  & 35.78565341\\\\\n",
       "\tSodium.DV & 11          & 260         &  20.6769231 &  24.0349538 &   8.0       &  16.9375000 &   8.89560   & 0           &  150.0      &  150.0      & 1.5281935   &  2.7611400  &  1.49058456\\\\\n",
       "\tCarbohydrates & 12          & 260         &  47.3461538 &  28.2522317 &  44.0       &  45.0576923 &  20.75640   & 0           &  141.0      &  141.0      & 0.9021952   &  1.3240829  &  1.75212903\\\\\n",
       "\tCarbohydrates.DV & 13          & 260         &  15.7807692 &   9.4195443 &  15.0       &  15.0240385 &   7.41300   & 0           &   47.0      &   47.0      & 0.8932000   &  1.3121961  &  0.58417534\\\\\n",
       "\tDietary.Fiber & 14          & 260         &   1.6307692 &   1.5677171 &   1.0       &   1.4134615 &   1.48260   & 0           &    7.0      &    7.0      & 1.1601177   &  1.2425023  &  0.09722569\\\\\n",
       "\tDietary.Fiber.DV & 15          & 260         &   6.5307692 &   6.3070573 &   5.0       &   5.6442308 &   7.41300   & 0           &   28.0      &   28.0      & 1.1409610   &  1.1286760  &  0.39114709\\\\\n",
       "\tSugars & 16          & 260         &  29.4230769 &  28.6797967 &  17.5       &  25.6153846 &  24.46290   & 0           &  128.0      &  128.0      & 1.0200638   &  0.4609670  &  1.77864549\\\\\n",
       "\tProtein & 17          & 260         &  13.3384615 &  11.4261462 &  12.0       &  12.0384615 &  11.86080   & 0           &   87.0      &   87.0      & 1.5617406   &  5.7954999  &  0.70861950\\\\\n",
       "\tVitamin.A.DV & 18          & 260         &  13.4269231 &  24.3663807 &   8.0       &   8.3461538 &  10.37820   & 0           &  170.0      &  170.0      & 4.5276162   & 23.8107746  &  1.51113878\\\\\n",
       "\tVitamin.C.DV & 19          & 260         &   8.5346154 &  26.3455423 &   0.0       &   2.6875000 &   0.00000   & 0           &  240.0      &  240.0      & 5.4389063   & 34.2651807  &  1.63388117\\\\\n",
       "\tCalcium.DV & 20          & 260         &  20.9730769 &  17.0199533 &  20.0       &  19.4855769 &  17.79120   & 0           &   70.0      &   70.0      & 0.5867234   & -0.5091444  &  1.05553269\\\\\n",
       "\tIron.DV & 21          & 260         &   7.7346154 &   8.7232633 &   4.0       &   6.4471154 &   5.93040   & 0           &   40.0      &   40.0      & 1.1742366   &  0.8542982  &  0.54099382\\\\\n",
       "\\end{tabular}\n"
      ],
      "text/markdown": [
       "\n",
       "| <!--/--> | vars | n | mean | sd | median | trimmed | mad | min | max | range | skew | kurtosis | se |\n",
       "|---|---|---|---|---|---|---|---|---|---|---|---|---|---|\n",
       "| Calories |  1          | 260         | 368.2692308 | 240.2698865 | 340.0       | 350.2884615 | 207.56400   | 0           | 1880.0      | 1880.0      | 1.4357816   |  5.5788997  | 14.90090580 |\n",
       "| Calories.from.Fat |  2          | 260         | 127.0961538 | 127.8759141 | 100.0       | 110.8894231 | 133.43400   | 0           | 1060.0      | 1060.0      | 2.1208157   | 10.2770357  |  7.93052753 |\n",
       "| Total.Fat |  3          | 260         |  14.1653846 |  14.2059980 |  11.0       |  12.3557692 |  14.82600   | 0           |  118.0      |  118.0      | 2.1280226   | 10.3517054  |  0.88101860 |\n",
       "| Total.Fat.DV |  4          | 260         |  21.8153846 |  21.8851988 |  17.0       |  19.0336538 |  23.72160   | 0           |  182.0      |  182.0      | 2.1371291   | 10.4238136  |  1.35726241 |\n",
       "| Saturated.Fat |  5          | 260         |   6.0076923 |   5.3218732 |   5.0       |   5.4519231 |   6.30105   | 0           |   20.0      |   20.0      | 0.6560465   | -0.4609420  |  0.33004857 |\n",
       "| Saturated.Fat.DV |  6          | 260         |  29.9653846 |  26.6392088 |  24.0       |  27.1346154 |  31.13460   | 0           |  102.0      |  102.0      | 0.6774092   | -0.4042764  |  1.65209360 |\n",
       "| Trans.Fat |  7          | 260         |   0.2038462 |   0.4291329 |   0.0       |   0.1033654 |   0.00000   | 0           |    2.5      |    2.5      | 2.1112383   |  4.1351405  |  0.02661369 |\n",
       "| Cholesterol |  8          | 260         |  54.9423077 |  87.2692575 |  35.0       |  36.0817308 |  44.47800   | 0           |  575.0      |  575.0      | 3.7551862   | 16.8794736  |  5.41220959 |\n",
       "| Cholesterol.DV |  9          | 260         |  18.3923077 |  29.0916528 |  11.0       |  12.1250000 |  13.34340   | 0           |  192.0      |  192.0      | 3.7604179   | 16.9231605  |  1.80418772 |\n",
       "| Sodium | 10          | 260         | 495.7500000 | 577.0263230 | 190.0       | 405.8413462 | 218.68350   | 0           | 3600.0      | 3600.0      | 1.5263175   |  2.7519102  | 35.78565341 |\n",
       "| Sodium.DV | 11          | 260         |  20.6769231 |  24.0349538 |   8.0       |  16.9375000 |   8.89560   | 0           |  150.0      |  150.0      | 1.5281935   |  2.7611400  |  1.49058456 |\n",
       "| Carbohydrates | 12          | 260         |  47.3461538 |  28.2522317 |  44.0       |  45.0576923 |  20.75640   | 0           |  141.0      |  141.0      | 0.9021952   |  1.3240829  |  1.75212903 |\n",
       "| Carbohydrates.DV | 13          | 260         |  15.7807692 |   9.4195443 |  15.0       |  15.0240385 |   7.41300   | 0           |   47.0      |   47.0      | 0.8932000   |  1.3121961  |  0.58417534 |\n",
       "| Dietary.Fiber | 14          | 260         |   1.6307692 |   1.5677171 |   1.0       |   1.4134615 |   1.48260   | 0           |    7.0      |    7.0      | 1.1601177   |  1.2425023  |  0.09722569 |\n",
       "| Dietary.Fiber.DV | 15          | 260         |   6.5307692 |   6.3070573 |   5.0       |   5.6442308 |   7.41300   | 0           |   28.0      |   28.0      | 1.1409610   |  1.1286760  |  0.39114709 |\n",
       "| Sugars | 16          | 260         |  29.4230769 |  28.6797967 |  17.5       |  25.6153846 |  24.46290   | 0           |  128.0      |  128.0      | 1.0200638   |  0.4609670  |  1.77864549 |\n",
       "| Protein | 17          | 260         |  13.3384615 |  11.4261462 |  12.0       |  12.0384615 |  11.86080   | 0           |   87.0      |   87.0      | 1.5617406   |  5.7954999  |  0.70861950 |\n",
       "| Vitamin.A.DV | 18          | 260         |  13.4269231 |  24.3663807 |   8.0       |   8.3461538 |  10.37820   | 0           |  170.0      |  170.0      | 4.5276162   | 23.8107746  |  1.51113878 |\n",
       "| Vitamin.C.DV | 19          | 260         |   8.5346154 |  26.3455423 |   0.0       |   2.6875000 |   0.00000   | 0           |  240.0      |  240.0      | 5.4389063   | 34.2651807  |  1.63388117 |\n",
       "| Calcium.DV | 20          | 260         |  20.9730769 |  17.0199533 |  20.0       |  19.4855769 |  17.79120   | 0           |   70.0      |   70.0      | 0.5867234   | -0.5091444  |  1.05553269 |\n",
       "| Iron.DV | 21          | 260         |   7.7346154 |   8.7232633 |   4.0       |   6.4471154 |   5.93040   | 0           |   40.0      |   40.0      | 1.1742366   |  0.8542982  |  0.54099382 |\n",
       "\n"
      ],
      "text/plain": [
       "                  vars n   mean        sd          median trimmed     mad      \n",
       "Calories           1   260 368.2692308 240.2698865 340.0  350.2884615 207.56400\n",
       "Calories.from.Fat  2   260 127.0961538 127.8759141 100.0  110.8894231 133.43400\n",
       "Total.Fat          3   260  14.1653846  14.2059980  11.0   12.3557692  14.82600\n",
       "Total.Fat.DV       4   260  21.8153846  21.8851988  17.0   19.0336538  23.72160\n",
       "Saturated.Fat      5   260   6.0076923   5.3218732   5.0    5.4519231   6.30105\n",
       "Saturated.Fat.DV   6   260  29.9653846  26.6392088  24.0   27.1346154  31.13460\n",
       "Trans.Fat          7   260   0.2038462   0.4291329   0.0    0.1033654   0.00000\n",
       "Cholesterol        8   260  54.9423077  87.2692575  35.0   36.0817308  44.47800\n",
       "Cholesterol.DV     9   260  18.3923077  29.0916528  11.0   12.1250000  13.34340\n",
       "Sodium            10   260 495.7500000 577.0263230 190.0  405.8413462 218.68350\n",
       "Sodium.DV         11   260  20.6769231  24.0349538   8.0   16.9375000   8.89560\n",
       "Carbohydrates     12   260  47.3461538  28.2522317  44.0   45.0576923  20.75640\n",
       "Carbohydrates.DV  13   260  15.7807692   9.4195443  15.0   15.0240385   7.41300\n",
       "Dietary.Fiber     14   260   1.6307692   1.5677171   1.0    1.4134615   1.48260\n",
       "Dietary.Fiber.DV  15   260   6.5307692   6.3070573   5.0    5.6442308   7.41300\n",
       "Sugars            16   260  29.4230769  28.6797967  17.5   25.6153846  24.46290\n",
       "Protein           17   260  13.3384615  11.4261462  12.0   12.0384615  11.86080\n",
       "Vitamin.A.DV      18   260  13.4269231  24.3663807   8.0    8.3461538  10.37820\n",
       "Vitamin.C.DV      19   260   8.5346154  26.3455423   0.0    2.6875000   0.00000\n",
       "Calcium.DV        20   260  20.9730769  17.0199533  20.0   19.4855769  17.79120\n",
       "Iron.DV           21   260   7.7346154   8.7232633   4.0    6.4471154   5.93040\n",
       "                  min max    range  skew      kurtosis   se         \n",
       "Calories          0   1880.0 1880.0 1.4357816  5.5788997 14.90090580\n",
       "Calories.from.Fat 0   1060.0 1060.0 2.1208157 10.2770357  7.93052753\n",
       "Total.Fat         0    118.0  118.0 2.1280226 10.3517054  0.88101860\n",
       "Total.Fat.DV      0    182.0  182.0 2.1371291 10.4238136  1.35726241\n",
       "Saturated.Fat     0     20.0   20.0 0.6560465 -0.4609420  0.33004857\n",
       "Saturated.Fat.DV  0    102.0  102.0 0.6774092 -0.4042764  1.65209360\n",
       "Trans.Fat         0      2.5    2.5 2.1112383  4.1351405  0.02661369\n",
       "Cholesterol       0    575.0  575.0 3.7551862 16.8794736  5.41220959\n",
       "Cholesterol.DV    0    192.0  192.0 3.7604179 16.9231605  1.80418772\n",
       "Sodium            0   3600.0 3600.0 1.5263175  2.7519102 35.78565341\n",
       "Sodium.DV         0    150.0  150.0 1.5281935  2.7611400  1.49058456\n",
       "Carbohydrates     0    141.0  141.0 0.9021952  1.3240829  1.75212903\n",
       "Carbohydrates.DV  0     47.0   47.0 0.8932000  1.3121961  0.58417534\n",
       "Dietary.Fiber     0      7.0    7.0 1.1601177  1.2425023  0.09722569\n",
       "Dietary.Fiber.DV  0     28.0   28.0 1.1409610  1.1286760  0.39114709\n",
       "Sugars            0    128.0  128.0 1.0200638  0.4609670  1.77864549\n",
       "Protein           0     87.0   87.0 1.5617406  5.7954999  0.70861950\n",
       "Vitamin.A.DV      0    170.0  170.0 4.5276162 23.8107746  1.51113878\n",
       "Vitamin.C.DV      0    240.0  240.0 5.4389063 34.2651807  1.63388117\n",
       "Calcium.DV        0     70.0   70.0 0.5867234 -0.5091444  1.05553269\n",
       "Iron.DV           0     40.0   40.0 1.1742366  0.8542982  0.54099382"
      ]
     },
     "metadata": {},
     "output_type": "display_data"
    }
   ],
   "source": [
    "describe(hungry[,c(4:24)])"
   ]
  },
  {
   "cell_type": "code",
   "execution_count": null,
   "metadata": {},
   "outputs": [],
   "source": [
    "names(hungry)"
   ]
  },
  {
   "cell_type": "code",
   "execution_count": null,
   "metadata": {},
   "outputs": [],
   "source": [
    "hungry$ID<-seq(1:260)\n",
    "dat.m <- melt(hungry,id.vars='ID', measure.vars=c('Total.Fat.DV','Saturated.Fat.DV','Cholesterol.DV','Sodium.DV','Carbohydrates.DV','Dietary.Fiber.DV','Vitamin.A.DV','Vitamin.C.DV','Calcium.DV','Iron.DV'))\n",
    "library(ggplot2)\n",
    "p <- ggplot(dat.m) +\n",
    "      geom_boxplot(aes(x=variable, y=value, color=variable))+coord_flip()+theme(legend.position = \"none\")+xlab('Nutrition facts')+ylab('% Daily Value')+\n",
    "geom_hline(yintercept=100,linetype=\"dashed\", color = \"red\")\n",
    "p"
   ]
  },
  {
   "cell_type": "code",
   "execution_count": null,
   "metadata": {},
   "outputs": [],
   "source": [
    "df.m <- melt(hungry[,c(1,7,9)], id.var = \"Category\")\n",
    "\n",
    "\n",
    "p <- ggplot(data = df.m, aes(x=variable, y=value)) + \n",
    "  geom_boxplot(aes(fill=Category))\n",
    "p + guides(fill=guide_legend(title=\"Category\"))+coord_flip()+xlab('% Daily Value')+ylab('Nutrition facts')+\n",
    "geom_hline(yintercept=100,linetype=\"dashed\", color = \"red\")+ylim(0,250)\n",
    "\n",
    "df.m <- melt(hungry[,c(1,12,14,16)], id.var = \"Category\")"
   ]
  },
  {
   "cell_type": "code",
   "execution_count": null,
   "metadata": {},
   "outputs": [],
   "source": [
    "p <- ggplot(data = df.m, aes(x=variable, y=value)) + \n",
    "  geom_boxplot(aes(fill=Category))\n",
    "p + guides(fill=guide_legend(title=\"Category\"))+coord_flip()+xlab('% Daily Value')+ylab('Nutrition facts')+\n",
    "geom_hline(yintercept=100,linetype=\"dashed\", color = \"red\")+ylim(0,250)\n",
    "\n",
    "df.m <- melt(hungry[,c(1,18,21)], id.var = \"Category\")"
   ]
  },
  {
   "cell_type": "code",
   "execution_count": null,
   "metadata": {},
   "outputs": [],
   "source": [
    "p <- ggplot(data = df.m, aes(x=variable, y=value)) + \n",
    "  geom_boxplot(aes(fill=Category))\n",
    "p + guides(fill=guide_legend(title=\"Category\"))+coord_flip()+xlab('% Daily Value')+ylab('Nutrition facts')+\n",
    "geom_hline(yintercept=100,linetype=\"dashed\", color = \"red\")+ylim(0,250)\n",
    "\n",
    "\n",
    "df.m <- melt(hungry[,c(1,22,23,24)], id.var = \"Category\")"
   ]
  },
  {
   "cell_type": "code",
   "execution_count": null,
   "metadata": {},
   "outputs": [],
   "source": [
    "p <- ggplot(data = df.m, aes(x=variable, y=value)) + \n",
    "  geom_boxplot(aes(fill=Category))\n",
    "p + guides(fill=guide_legend(title=\"Category\"))+coord_flip()+xlab('% Daily Value')+ylab('Nutrition facts')+\n",
    "geom_hline(yintercept=100,linetype=\"dashed\", color = \"red\")+ylim(0,250)"
   ]
  },
  {
   "cell_type": "code",
   "execution_count": null,
   "metadata": {},
   "outputs": [],
   "source": [
    "library(tidyr)"
   ]
  },
  {
   "cell_type": "code",
   "execution_count": null,
   "metadata": {},
   "outputs": [],
   "source": [
    "require(\"ggplot2\")"
   ]
  },
  {
   "cell_type": "code",
   "execution_count": null,
   "metadata": {},
   "outputs": [],
   "source": [
    "library(ggthemes)"
   ]
  },
  {
   "cell_type": "code",
   "execution_count": null,
   "metadata": {},
   "outputs": [],
   "source": [
    "options(repr.plot.height=4, repr.plot.width=7)\n",
    "hungry %>%\n",
    "  gather(Nutrition, Value, Total.Fat:Iron.DV, factor_key=TRUE) %>%\n",
    "  filter(grepl(\"DV\", Nutrition)) %>%\n",
    "  ggplot(aes(x = reorder(Category, Value), y = Value)) +\n",
    "  geom_point(aes(colour=Value>=50), shape = \"|\", size=3) +\n",
    "  geom_hline(yintercept = 50, linetype = 2, col='red') + geom_hline(yintercept = 100, linetype = 2, col='darkred') +\n",
    "  facet_wrap(~ Nutrition, nrow=2) +\n",
    "  coord_flip() +\n",
    "  theme_pander(base_size=9) +\n",
    "  theme(panel.border = element_rect(colour = 1, fill=NA), legend.position=\"none\") +\n",
    "  scale_colour_manual(name=\"\", values = c(\"TRUE\"=\"red\", \"FALSE\"=\"black\")) +\n",
    "  labs(x = NULL)"
   ]
  },
  {
   "cell_type": "code",
   "execution_count": null,
   "metadata": {},
   "outputs": [],
   "source": [
    "options(repr.plot.height=5, repr.plot.width=7)\n",
    "hungry %>%\n",
    "  filter(Vitamin.A.DV > 50 | Vitamin.C.DV > 50) %>%\n",
    "  gather(Nutrition, Value, Total.Fat:Iron.DV, factor_key=TRUE) %>%\n",
    "  filter(grepl(\"DV\", Nutrition)) %>%\n",
    "  ggplot(aes(x = reorder(Item, Value), y = Value, fill=Value<=50)) +\n",
    "  geom_bar(width=0.5, stat = \"identity\") +\n",
    "  geom_hline(yintercept = 50, linetype = 2) + geom_hline(yintercept = 100, linetype = 2, col='darkred')+\n",
    "  facet_wrap(~ Nutrition, nrow=2) +\n",
    "  coord_flip() +\n",
    "  theme_pander(base_size = 7) +\n",
    "  theme(panel.border = element_rect(colour = \"black\", fill=NA), legend.position=\"none\") +\n",
    "  labs(x = NULL)"
   ]
  },
  {
   "cell_type": "code",
   "execution_count": null,
   "metadata": {},
   "outputs": [],
   "source": [
    "options(repr.plot.height=5, repr.plot.width=7)\n",
    "hungry %>%\n",
    "  filter(Cholesterol.DV > 50) %>%\n",
    "  gather(Nutrition, Value, Total.Fat:Iron.DV, factor_key=TRUE) %>%\n",
    "  filter(grepl(\"DV\", Nutrition)) %>%\n",
    "  ggplot(aes(x = reorder(Item, Value), y = Value, fill=Value<=50)) +\n",
    "  geom_bar(width=0.5, stat = \"identity\") +\n",
    "  geom_hline(yintercept = 50, linetype = 2)+ geom_hline(yintercept = 100, linetype = 2, col='darkred') +\n",
    "  facet_wrap(~ Nutrition, nrow=2) +\n",
    "  coord_flip() +\n",
    "  theme_pander(base_size = 7) +\n",
    "  theme(panel.border = element_rect(colour = \"black\", fill=NA)) +\n",
    "  theme(legend.position=\"none\") +\n",
    "  labs(x = NULL)"
   ]
  },
  {
   "cell_type": "code",
   "execution_count": null,
   "metadata": {},
   "outputs": [],
   "source": [
    "options(repr.plot.height=5, repr.plot.width=7)\n",
    "hungry %>%\n",
    "  gather(Nutrition, Value, Total.Fat:Iron.DV, factor_key=TRUE) %>%\n",
    "  filter(grepl(\"DV\", Nutrition)) %>%\n",
    "  ggplot(aes(reorder(Nutrition, Value), Value)) +\n",
    "  geom_point(aes(colour=Value<=50), shape = \"|\", size=3) +\n",
    "  coord_flip() +\n",
    "  geom_hline(yintercept = 50, linetype=2) + geom_hline(yintercept = 100, linetype = 2, col='darkred')+\n",
    "  facet_wrap(~Category) +\n",
    "  theme_pander(base_size=9) +\n",
    "  theme(panel.border = element_rect(colour = \"black\", fill=NA), legend.position=\"none\") +\n",
    "  labs(x = NULL)"
   ]
  },
  {
   "cell_type": "code",
   "execution_count": null,
   "metadata": {},
   "outputs": [],
   "source": [
    "options(repr.plot.height=5, repr.plot.width=7)\n",
    "hungry %>%\n",
    "  gather(Nutrition, Value, Total.Fat:Iron.DV, factor_key=TRUE) %>%\n",
    "  filter(grepl(\"DV\", Nutrition)) %>%\n",
    "  ggplot(aes(Serving.Size, Value, color=Type)) +\n",
    "  geom_point(shape = \"+\", size=3) +\n",
    "  geom_smooth(method = \"lm\", se=F) +\n",
    "  stat_ellipse(type = \"norm\") +\n",
    "  geom_vline(xintercept = 100, linetype=2, col='red') + \n",
    "  facet_wrap(~ Nutrition, nrow=2) +\n",
    "  theme_pander(base_size=10) +\n",
    "  theme(panel.border = element_rect(colour = \"black\", fill=NA), legend.position=\"top\")"
   ]
  },
  {
   "cell_type": "code",
   "execution_count": null,
   "metadata": {},
   "outputs": [],
   "source": [
    "options(repr.plot.height=4, repr.plot.width=6)\n",
    "ggplot(hungry, aes(x = Calories)) + \n",
    "  geom_density(fill=\"lightblue\") +\n",
    "  facet_wrap( ~ Category) +\n",
    "  geom_vline(aes(xintercept = median(Calories)), linetype = 2) +\n",
    "  theme_pander(base_size=8)\n"
   ]
  },
  {
   "cell_type": "code",
   "execution_count": null,
   "metadata": {},
   "outputs": [],
   "source": [
    "options(repr.plot.height=3, repr.plot.width=6)\n",
    "ggplot(hungry, aes(x = reorder(Category, Calories), y = Calories,fill=Category)) +\n",
    "  geom_boxplot() +\n",
    "  coord_flip() +\n",
    "  theme_pander() +\n",
    "  labs(x = NULL)+theme(legend.position = \"none\")"
   ]
  },
  {
   "cell_type": "code",
   "execution_count": null,
   "metadata": {},
   "outputs": [],
   "source": [
    "options(repr.plot.height=4, repr.plot.width=6)\n",
    "hungry %>%\n",
    "  filter(.,Category==\"Chicken & Fish\") %>%\n",
    "  ggplot(aes(x = reorder(Item, Calories), y = Calories)) +\n",
    "  geom_bar(aes(fill=Calories<600), width=0.5, stat = \"identity\") +\n",
    "  coord_flip() +\n",
    "  theme_pander(base_size = 10) +\n",
    "  theme(legend.position=\"none\") +\n",
    "  labs(x = NULL)"
   ]
  },
  {
   "cell_type": "code",
   "execution_count": null,
   "metadata": {
    "scrolled": true
   },
   "outputs": [],
   "source": [
    "ggplot(hungry, aes(x=Serving.Size, y=Calories, color=Type, shape=Type)) +\n",
    "  geom_point() + \n",
    "  geom_smooth(method=lm, aes(fill=Type))+xlab('Serving size')+ylim(0,2000)+xlim(0,800)"
   ]
  },
  {
   "cell_type": "code",
   "execution_count": null,
   "metadata": {},
   "outputs": [],
   "source": [
    "options(repr.plot.height=6, repr.plot.width=6)\n",
    "ggplot(hungry, aes(x = Calories, y = Serving.Size, colour=Type)) +\n",
    "  stat_density2d() +\n",
    "  facet_wrap( ~ Category) +\n",
    "  theme_tufte(base_family=\"Helvetica\") +\n",
    "  theme(panel.border = element_rect(colour = \"black\", fill=NA), legend.position=\"top\")"
   ]
  },
  {
   "cell_type": "code",
   "execution_count": null,
   "metadata": {},
   "outputs": [],
   "source": [
    "library(corrplot)"
   ]
  },
  {
   "cell_type": "code",
   "execution_count": null,
   "metadata": {},
   "outputs": [],
   "source": [
    "w.corr1<-cor(hungry[,c(4,3,5:24)],method=\"pearson\")\n",
    "corrplot(w.corr1, order=\"original\",method=\"ellipse\" ,type=\"lower\", diag = F, tl.col=\"black\", tl.srt=15)"
   ]
  },
  {
   "cell_type": "code",
   "execution_count": null,
   "metadata": {},
   "outputs": [],
   "source": [
    "col<-colorRampPalette(c('blue','white','red'))(20)\n",
    "heatmap(x=w.corr1, col=col,symm=T)"
   ]
  },
  {
   "cell_type": "code",
   "execution_count": null,
   "metadata": {},
   "outputs": [],
   "source": [
    "set.seed(123)\n",
    "hungry$Type<-factor(hungry$Type)\n",
    "smp_size <- floor(0.70 * nrow(hungry))\n",
    "train_ind <- sample(seq_len(nrow(hungry)), size = smp_size)\n",
    "train <- hungry[train_ind, ]\n",
    "test <- hungry[-train_ind, ]"
   ]
  },
  {
   "cell_type": "code",
   "execution_count": null,
   "metadata": {},
   "outputs": [],
   "source": [
    "train<-train[,-c(1,2,5, 26)]\n",
    "test<-test[,-c(1,2,5, 26)]"
   ]
  },
  {
   "cell_type": "code",
   "execution_count": null,
   "metadata": {},
   "outputs": [],
   "source": [
    "str(train)"
   ]
  },
  {
   "cell_type": "code",
   "execution_count": null,
   "metadata": {},
   "outputs": [],
   "source": [
    "library(caret)"
   ]
  },
  {
   "cell_type": "code",
   "execution_count": null,
   "metadata": {},
   "outputs": [],
   "source": [
    "fitControl <- trainControl(\n",
    "  # Repeated 5–fold CV \n",
    "  method = \"repeatedcv\",\n",
    " number = 5,\n",
    "  ## repeated 10 times\n",
    "  repeats = 10,\n",
    " verboseIter = TRUE,\n",
    "  returnResamp = \"all\")"
   ]
  },
  {
   "cell_type": "code",
   "execution_count": null,
   "metadata": {},
   "outputs": [],
   "source": [
    "install.packages(\"GenABEL\")"
   ]
  },
  {
   "cell_type": "code",
   "execution_count": null,
   "metadata": {
    "scrolled": true
   },
   "outputs": [],
   "source": [
    "install.packages(\"ranger\")"
   ]
  },
  {
   "cell_type": "code",
   "execution_count": null,
   "metadata": {},
   "outputs": [],
   "source": [
    "install.packages(\"e1071\")"
   ]
  },
  {
   "cell_type": "code",
   "execution_count": null,
   "metadata": {
    "scrolled": true
   },
   "outputs": [],
   "source": [
    "rrfFit <- train(Calories ~ ., \n",
    "                data = train,\n",
    "               method = 'ranger',\n",
    "                tuneLength = 10, \n",
    "               trControl = fitControl,\n",
    "               num.trees = 700,\n",
    "               importance = \"permutation\")"
   ]
  },
  {
   "cell_type": "code",
   "execution_count": null,
   "metadata": {},
   "outputs": [],
   "source": [
    "trellis.par.set(caretTheme())\n",
    "plot(rrfFit)"
   ]
  },
  {
   "cell_type": "code",
   "execution_count": null,
   "metadata": {},
   "outputs": [],
   "source": [
    "testPred <- predict(rrfFit , test)\n",
    "RMSE(testPred,test$Calories)\n",
    "\n",
    "\n",
    "densityplot(rrfFit,\n",
    "           adjust = 1.25)\n",
    "\n",
    "xyplot(rrfFit)"
   ]
  },
  {
   "cell_type": "code",
   "execution_count": null,
   "metadata": {},
   "outputs": [],
   "source": [
    "rfImp <- varImp(rrfFit)\n",
    "rfImp\n",
    "plot(rfImp,top = 20)"
   ]
  },
  {
   "cell_type": "code",
   "execution_count": null,
   "metadata": {},
   "outputs": [],
   "source": []
  }
 ],
 "metadata": {
  "kernelspec": {
   "display_name": "R",
   "language": "R",
   "name": "ir"
  },
  "language_info": {
   "codemirror_mode": "r",
   "file_extension": ".r",
   "mimetype": "text/x-r-source",
   "name": "R",
   "pygments_lexer": "r",
   "version": "3.6.1"
  }
 },
 "nbformat": 4,
 "nbformat_minor": 4
}
